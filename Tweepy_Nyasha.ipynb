{
 "cells": [
  {
   "cell_type": "markdown",
   "metadata": {},
   "source": [
    "   # Welcome to my Twitter sentitment analysis tutorial using Python!\n",
    "   ## This tutorial uses Tweepy, and TextBlob libraries to analyse the sentitment around finance, and money in South Africa\n",
    "   \n",
    "   <font size=\"4\">The following steps are followed in this tutorial:\n",
    "1. First we set up our connection to the twitter API using __Tweepy__, and keys generated from twitter.\n",
    "2. We then use __Tweepy__ to gather tweets, and interact with our twitter page.\n",
    "3. Lastly we analyse the sentiment of collected tweets using __TextBlob__, and plot the results using __Matplotlib__. \n",
    "\n",
    "<img src=\"twitter-geraltPixabay-625x352.jpg\" width=\"500\" height=\"500\" align=\"center\"/>"
   ]
  },
  {
   "cell_type": "markdown",
   "metadata": {},
   "source": [
    "### For the purpose of this tutorial i have created the twitter account @FinancialLiteracySA, some more information on it below."
   ]
  },
  {
   "cell_type": "code",
   "execution_count": 53,
   "metadata": {},
   "outputs": [
    {
     "data": {
      "text/html": [
       "\n",
       "<blockquote class=\"twitter-tweet\" data-lang=\"en\"><p lang=\"en\" dir=\"ltr\">FinancialLiteracySA is an automated bot that exists to promote financial literacy and a savings culture in South Africa.<br><br>Disclaimer: This bot is in pre-alpha mode and is being used for educational purposes.</p>&mdash; FinancialLiteracySA (@FinancialLitSA) <a href=\"https://twitter.com/FinancialLitSA/status/1125703757893910528?ref_src=twsrc%5Etfw\">May 7, 2019</a></blockquote>\n",
       "<script async src=\"https://platform.twitter.com/widgets.js\" charset=\"utf-8\"></script>\n",
       "\n"
      ],
      "text/plain": [
       "<__main__.Tweet at 0x24de5d53470>"
      ]
     },
     "execution_count": 53,
     "metadata": {},
     "output_type": "execute_result"
    }
   ],
   "source": [
    "#![Image of Twitter](twitter-geraltPixabay-625x352.jpg)\n",
    "class Tweet(object):\n",
    "    def __init__(self, embed_str=None):\n",
    "        self.embed_str = embed_str\n",
    "\n",
    "    def _repr_html_(self):\n",
    "        return self.embed_str\n",
    "\n",
    "s = (\"\"\"\n",
    "<blockquote class=\"twitter-tweet\" data-lang=\"en\"><p lang=\"en\" dir=\"ltr\">FinancialLiteracySA is an automated bot that exists to promote financial literacy and a savings culture in South Africa.<br><br>Disclaimer: This bot is in pre-alpha mode and is being used for educational purposes.</p>&mdash; FinancialLiteracySA (@FinancialLitSA) <a href=\"https://twitter.com/FinancialLitSA/status/1125703757893910528?ref_src=twsrc%5Etfw\">May 7, 2019</a></blockquote>\n",
    "<script async src=\"https://platform.twitter.com/widgets.js\" charset=\"utf-8\"></script>\n",
    "\n",
    "\"\"\")\n",
    "\n",
    "Tweet(s)"
   ]
  },
  {
   "cell_type": "markdown",
   "metadata": {},
   "source": [
    "# 1. Setting up our connection to twitter.\n",
    "### Textblob is a Python package that allows us to analyse the sentiment of tweets. It also allows for other Natural Language Processing (NLP) functions like translation, phrase-tagging, and classification.\n",
    "\n",
    "\n",
    "<font size=\"3\">Analysing sentiment can assist business in detemining attitudes towards their brand or assist policy-makes in identifying sub-groups to target in awareness campaigns. In this tutorial i have chose to create a bot that follows topics on finacial literacy in South Africa. I then use the account,through the API to collect South African tweets on the topic of money to see how South African's feel about money.\n",
    "    \n",
    " By 2017 it was [reported](https://businesstech.co.za/news/internet/199318/how-many-people-use-facebook-twitter-and-instagram-in-south-africa/) that SA twitter already had __8 million__ __users__ so this is a good proxy of the sentiment around money - at least amongst demographics making use of twitter to express their opinions.\n",
    " \n",
    "    \n",
    "In this tutorial we will explore sentiment around money in SA using Textblob. Textblob takes a string (tweet in this case) and returns a polarity score range from __-1__, __to__ __1, 1__ being a __positive__ __sentiment__, and __-1__ being a __negative__ __sentiment__.\n",
    " \n",
    "</font>"
   ]
  },
  {
   "cell_type": "markdown",
   "metadata": {},
   "source": [
    "### In order to access tweets we will need to use the twitter API. Twitter API access is done through keys, and tokens.\n",
    "<font size=\"3\">In order to generate keys you will need to create a twitter developer account [here](https://developer.twitter.com/content/developer-twitter/en.html). Once created select 'create an app', and fill in details regarding the purpose of your project. The keys and token will be used to authenticate your access, and must be stored in a safe place.</font>\n",
    "\n",
    "### App name, description and webiste are required fields.\n"
   ]
  },
  {
   "cell_type": "markdown",
   "metadata": {},
   "source": [
    "![Page 1](Page1.png)"
   ]
  },
  {
   "cell_type": "markdown",
   "metadata": {},
   "source": [
    "### Once you've registered your app, your keys and tokens will be generated. \n",
    "<font size=\"3\">Store these in a safe place as we will use them in the next step.\n",
    "\n",
    "An example of the keys, and tokens generated is given below - don't share your secret tokens or keys with anyone.</font>"
   ]
  },
  {
   "cell_type": "markdown",
   "metadata": {},
   "source": [
    "![Page 2](Page2.png)"
   ]
  },
  {
   "cell_type": "markdown",
   "metadata": {},
   "source": [
    "\n",
    "### In order to search for, and filter tweets using the twitter API, we will need to install and import the tweepy library."
   ]
  },
  {
   "cell_type": "code",
   "execution_count": 4,
   "metadata": {},
   "outputs": [],
   "source": [
    "import tweepy #import the tweepy library"
   ]
  },
  {
   "cell_type": "markdown",
   "metadata": {},
   "source": [
    "### In order to analyse the sentiment of the retrieved tweets we will need to install and import the TextBlob library."
   ]
  },
  {
   "cell_type": "code",
   "execution_count": 19,
   "metadata": {},
   "outputs": [
    {
     "name": "stdout",
     "output_type": "stream",
     "text": [
      "Requirement already up-to-date: textblob in c:\\users\\nyash\\anaconda3\\lib\\site-packages (0.15.3)\n",
      "Requirement already satisfied, skipping upgrade: nltk>=3.1 in c:\\users\\nyash\\anaconda3\\lib\\site-packages (from textblob) (3.4)\n",
      "Requirement already satisfied, skipping upgrade: six in c:\\users\\nyash\\anaconda3\\lib\\site-packages (from nltk>=3.1->textblob) (1.12.0)\n",
      "Requirement already satisfied, skipping upgrade: singledispatch in c:\\users\\nyash\\anaconda3\\lib\\site-packages (from nltk>=3.1->textblob) (3.4.0.3)\n",
      "Note: you may need to restart the kernel to use updated packages.\n"
     ]
    }
   ],
   "source": [
    "pip install -U textblob "
   ]
  },
  {
   "cell_type": "code",
   "execution_count": 2,
   "metadata": {},
   "outputs": [],
   "source": [
    "from textblob import TextBlob #import"
   ]
  },
  {
   "cell_type": "markdown",
   "metadata": {},
   "source": [
    "### Next we will initialise the API connection using Tweepy, and the keys and tokens that were generated for our app.\n",
    "\n",
    "<font size=\"3\">We also specify wait_on_rate_limit=True, this ensures any twitter pull will not result in an error from breaching the call limit.\n",
    "The call limit for get requests is 15 calls every 15 mins i.e. you are only allowed to request data 15 times within a 15 minute timeframe. In order to avoid being rate limited you can use one of the following strategies:\n",
    "\n",
    "\n",
    "- Cache results, store results from each call to avoid requesting the same data and wasting a call.\n",
    "- Prioritise the tweets to fetch - narrow it down to a specific location, or phrase to avoid fetching unecessary data."
   ]
  },
  {
   "cell_type": "code",
   "execution_count": 6,
   "metadata": {},
   "outputs": [],
   "source": [
    "#Keys & tokens from twitter app\n",
    "#Published tutorial will exclude the keys\n",
    "\n",
    "consumer_key = '' #replace with your own keys inbetween the inverted commas\n",
    "consumer_secret = ''\n",
    "access_token = ''\n",
    "access_token_secret = ''\n",
    "\n",
    "#Setting up the API\n",
    "#We need to input the keys and tokens $ set the rate limit\n",
    "auth = tweepy.OAuthHandler(consumer_key, consumer_secret)\n",
    "auth.set_access_token(access_token, access_token_secret)\n",
    "api = tweepy.API(auth,wait_on_rate_limit=True) "
   ]
  },
  {
   "cell_type": "markdown",
   "metadata": {},
   "source": [
    "### Now that our API is set up, lets check that it worked by printing the corresponding user name - it should match the user name on the linked twitter account, in this case @FinancialLiteracySA"
   ]
  },
  {
   "cell_type": "code",
   "execution_count": 7,
   "metadata": {},
   "outputs": [
    {
     "name": "stdout",
     "output_type": "stream",
     "text": [
      "FinancialLiteracySA\n"
     ]
    }
   ],
   "source": [
    "#We can check that the program above worked - code should return you username\n",
    "user = api.me()\n",
    "print(user.name)"
   ]
  },
  {
   "cell_type": "markdown",
   "metadata": {},
   "source": [
    "### Before we begin the sentiment analysis, lets find some people to follow. Tweepy allows the following functions through the API:\n",
    "- Follow users\n",
    "- Retweet users\n",
    "- Like posts\n",
    "- Post tweets\n",
    "\n",
    "#### To begin, we follow everyone who is following us, and confirm that it is done. You can check your twitter page after running this to see the results."
   ]
  },
  {
   "cell_type": "code",
   "execution_count": 8,
   "metadata": {},
   "outputs": [
    {
     "name": "stdout",
     "output_type": "stream",
     "text": [
      "Followed back everyone that is following @FinancialLiteracySA\n",
      "Followed back everyone that is following @FinancialLiteracySA\n"
     ]
    }
   ],
   "source": [
    "#The bot must follow all all users who follow it\n",
    "\n",
    "for follower in tweepy.Cursor(api.followers).items(): #For all followers do the following\n",
    "    follower.follow() #Follow the follower\n",
    "    print(\"Followed back everyone that is following @\" + user.name) #print confirmation when done"
   ]
  },
  {
   "cell_type": "markdown",
   "metadata": {},
   "source": [
    "# 2. Gathering relevant tweets.\n",
    "### In this tutorial we will investigate the sentitment around finance in South Africa, we use the keyword 'money' to search for relevant tweets. To ensure we are only retrieving tweets from South Africa we use the geocode parameter, and specify a radius from which to include tweets. \n",
    "\n",
    "#### The following parameters are specified:\n",
    "- search, word, phrase or hashtag to search for\n",
    "- numberOfTweets, number of tweets tor retrieve\n",
    "- lang, language of tweets (Currently no South African languages so we will use English)\n",
    "- since, date from which to search\n",
    "- geocode, geocode of location to search for - unfortunaley this will limit us to only users who share their location and might skew our data"
   ]
  },
  {
   "cell_type": "code",
   "execution_count": 9,
   "metadata": {},
   "outputs": [],
   "source": [
    "search = \"money\" # searching for tweets that contain the word money\n",
    "\n",
    "numberOfTweets = 1000 #for now we will search for 1000 tweets\n",
    "lang = \"en\" #for now we will only look at english tweets - no south african languages have been built in as yet\n",
    "since = '2017-01-01' # we will search from the 1st of Jan 2017 to ensure we get a significant amount of results\n",
    "\n",
    "tweets = tweepy.Cursor(api.search,\n",
    "                   q=search,\n",
    "                   lang=lang,\n",
    "                   since= since,geocode = \"-30.55948,22.9375,1000mi\").items(numberOfTweets)\n",
    "\n",
    "#,geocode = '26.21861,28.03213,1000km'"
   ]
  },
  {
   "cell_type": "markdown",
   "metadata": {},
   "source": [
    "### Now that we've retrieved the tweets we will need to clean them up to remove URLs which will be meaningless to our sentiment analysis. We define the function below to remove the URLs. The function parses the string and returns it with URLs removed."
   ]
  },
  {
   "cell_type": "code",
   "execution_count": 10,
   "metadata": {},
   "outputs": [],
   "source": [
    "import re #import regular expressions library\n",
    "def remove_url(txt):\n",
    "    return \" \".join(re.sub(\"([^0-9A-Za-z \\t])|(\\w+:\\/\\/\\S+)\", \"\", txt).split())\n",
    "\n",
    "#We then apply the function to the tweets using a for loop\n",
    "tweets_no_urls = [remove_url(tweet.text) for tweet in tweets]"
   ]
  },
  {
   "cell_type": "markdown",
   "metadata": {},
   "source": [
    "### Next we analyse the sentiment of the tweets using TextBlob. Calling TextBlob() on a tweet will return a polarity score which we will store per tweet for our analysis. Recall, 1 is a positive sentiment and -1 a negative sentiment."
   ]
  },
  {
   "cell_type": "code",
   "execution_count": 13,
   "metadata": {},
   "outputs": [
    {
     "data": {
      "text/html": [
       "<div>\n",
       "<style scoped>\n",
       "    .dataframe tbody tr th:only-of-type {\n",
       "        vertical-align: middle;\n",
       "    }\n",
       "\n",
       "    .dataframe tbody tr th {\n",
       "        vertical-align: top;\n",
       "    }\n",
       "\n",
       "    .dataframe thead th {\n",
       "        text-align: right;\n",
       "    }\n",
       "</style>\n",
       "<table border=\"1\" class=\"dataframe\">\n",
       "  <thead>\n",
       "    <tr style=\"text-align: right;\">\n",
       "      <th></th>\n",
       "      <th>polarity</th>\n",
       "      <th>tweet</th>\n",
       "    </tr>\n",
       "  </thead>\n",
       "  <tbody>\n",
       "    <tr>\n",
       "      <th>0</th>\n",
       "      <td>0.600000</td>\n",
       "      <td>RT JamilFarouk Also when are we having the cha...</td>\n",
       "    </tr>\n",
       "    <tr>\n",
       "      <th>1</th>\n",
       "      <td>0.100000</td>\n",
       "      <td>dailymaverick mariannemerten Huge waste of mon...</td>\n",
       "    </tr>\n",
       "    <tr>\n",
       "      <th>2</th>\n",
       "      <td>0.666667</td>\n",
       "      <td>RT casspernyovest Being in shape feels better ...</td>\n",
       "    </tr>\n",
       "    <tr>\n",
       "      <th>3</th>\n",
       "      <td>0.000000</td>\n",
       "      <td>Once you really understand whats meant by Time...</td>\n",
       "    </tr>\n",
       "    <tr>\n",
       "      <th>4</th>\n",
       "      <td>0.150000</td>\n",
       "      <td>RT LisaMei62 Drop 5 from 29 Oct 2017Follow the...</td>\n",
       "    </tr>\n",
       "    <tr>\n",
       "      <th>5</th>\n",
       "      <td>0.000000</td>\n",
       "      <td>JonesMusara Its our money Not ED rubbish Chiko...</td>\n",
       "    </tr>\n",
       "    <tr>\n",
       "      <th>6</th>\n",
       "      <td>-0.325000</td>\n",
       "      <td>RT GregMackinlay fortunechasi Why are we not d...</td>\n",
       "    </tr>\n",
       "    <tr>\n",
       "      <th>7</th>\n",
       "      <td>0.100000</td>\n",
       "      <td>RT beanbagboy Im coming from the 25th to the 2...</td>\n",
       "    </tr>\n",
       "    <tr>\n",
       "      <th>8</th>\n",
       "      <td>0.000000</td>\n",
       "      <td>NosiDipa bathi they have a business that u can...</td>\n",
       "    </tr>\n",
       "    <tr>\n",
       "      <th>9</th>\n",
       "      <td>0.000000</td>\n",
       "      <td>RT casspernyovest I just want the money and th...</td>\n",
       "    </tr>\n",
       "    <tr>\n",
       "      <th>10</th>\n",
       "      <td>0.600000</td>\n",
       "      <td>RT JamilFarouk Also when are we having the cha...</td>\n",
       "    </tr>\n",
       "    <tr>\n",
       "      <th>11</th>\n",
       "      <td>0.000000</td>\n",
       "      <td>RT rinmor jamesstyan Where does all that money...</td>\n",
       "    </tr>\n",
       "    <tr>\n",
       "      <th>12</th>\n",
       "      <td>0.000000</td>\n",
       "      <td>RT lifepodcasts My dad was a slave to his job ...</td>\n",
       "    </tr>\n",
       "    <tr>\n",
       "      <th>13</th>\n",
       "      <td>0.000000</td>\n",
       "      <td>I want to attract money and people with financ...</td>\n",
       "    </tr>\n",
       "    <tr>\n",
       "      <th>14</th>\n",
       "      <td>0.000000</td>\n",
       "      <td>Skinnyray I dont have money to show up anywher...</td>\n",
       "    </tr>\n",
       "    <tr>\n",
       "      <th>15</th>\n",
       "      <td>0.000000</td>\n",
       "      <td>realDonaldTrump DevinNunes ShannonBream FoxNew...</td>\n",
       "    </tr>\n",
       "    <tr>\n",
       "      <th>16</th>\n",
       "      <td>0.000000</td>\n",
       "      <td>RT ntsikimazwai I dont want a man who borrows ...</td>\n",
       "    </tr>\n",
       "    <tr>\n",
       "      <th>17</th>\n",
       "      <td>0.183333</td>\n",
       "      <td>BigBradBrown Exactly And then they waste more ...</td>\n",
       "    </tr>\n",
       "    <tr>\n",
       "      <th>18</th>\n",
       "      <td>0.000000</td>\n",
       "      <td>Hayi lets not go on a date save that money buy...</td>\n",
       "    </tr>\n",
       "    <tr>\n",
       "      <th>19</th>\n",
       "      <td>0.000000</td>\n",
       "      <td>Broke and about to take my last money and do m...</td>\n",
       "    </tr>\n",
       "  </tbody>\n",
       "</table>\n",
       "</div>"
      ],
      "text/plain": [
       "    polarity                                              tweet\n",
       "0   0.600000  RT JamilFarouk Also when are we having the cha...\n",
       "1   0.100000  dailymaverick mariannemerten Huge waste of mon...\n",
       "2   0.666667  RT casspernyovest Being in shape feels better ...\n",
       "3   0.000000  Once you really understand whats meant by Time...\n",
       "4   0.150000  RT LisaMei62 Drop 5 from 29 Oct 2017Follow the...\n",
       "5   0.000000  JonesMusara Its our money Not ED rubbish Chiko...\n",
       "6  -0.325000  RT GregMackinlay fortunechasi Why are we not d...\n",
       "7   0.100000  RT beanbagboy Im coming from the 25th to the 2...\n",
       "8   0.000000  NosiDipa bathi they have a business that u can...\n",
       "9   0.000000  RT casspernyovest I just want the money and th...\n",
       "10  0.600000  RT JamilFarouk Also when are we having the cha...\n",
       "11  0.000000  RT rinmor jamesstyan Where does all that money...\n",
       "12  0.000000  RT lifepodcasts My dad was a slave to his job ...\n",
       "13  0.000000  I want to attract money and people with financ...\n",
       "14  0.000000  Skinnyray I dont have money to show up anywher...\n",
       "15  0.000000  realDonaldTrump DevinNunes ShannonBream FoxNew...\n",
       "16  0.000000  RT ntsikimazwai I dont want a man who borrows ...\n",
       "17  0.183333  BigBradBrown Exactly And then they waste more ...\n",
       "18  0.000000  Hayi lets not go on a date save that money buy...\n",
       "19  0.000000  Broke and about to take my last money and do m..."
      ]
     },
     "execution_count": 13,
     "metadata": {},
     "output_type": "execute_result"
    }
   ],
   "source": [
    "import pandas as pd\n",
    "\n",
    "# Create textblob objects of the tweets\n",
    "sentiment_objects = [TextBlob(tweet) for tweet in tweets_no_urls] #iterate through each tweet in tweets_no_urls\n",
    "sentiment_values = [[tweet.sentiment.polarity, str(tweet)] for tweet in sentiment_objects]#assign a polarity score for each tweet in the TextBlob object\n",
    "\n",
    "\n",
    "sentiment_df = pd.DataFrame(sentiment_values, columns=[\"polarity\", \"tweet\"])\n",
    "\n",
    "sentiment_df.head(20) #Take a look at the first 20 tweets - sentiment expressed in local slang wont necessarily be picked up by TexTBlob\n",
    "#We can extract the most negative tweet and see if the results make sense\n",
    "#sentiment_df.tweet[sentiment_df.polarity==sentiment_df.polarity.min()]"
   ]
  },
  {
   "cell_type": "markdown",
   "metadata": {},
   "source": [
    "## Next we plot a histogram of the polarity score for our 1,000 tweets.\n",
    "\n",
    "### In the histogram we see that a large proportion of the tweets received a score of 0. In order to undertsand the sentiment of those we expressed an attitude (polarity not equal to 0) we can remove the 0's and plot the remaining cases again."
   ]
  },
  {
   "cell_type": "code",
   "execution_count": 15,
   "metadata": {},
   "outputs": [
    {
     "data": {
      "image/png": "[encoded data removed]",
      "text/plain": [
       "<Figure size 576x432 with 1 Axes>"
      ]
     },
     "metadata": {
      "needs_background": "light"
     },
     "output_type": "display_data"
    }
   ],
   "source": [
    "import matplotlib.pyplot as plt\n",
    "\n",
    "fig, ax = plt.subplots(figsize=(8, 6))\n",
    "\n",
    "# Plot histogram of the polarity values\n",
    "sentiment_df.hist(bins=[-1, -0.75, -0.5, -0.25, 0.25, 0.5, 0.75, 1],\n",
    "             ax=ax,\n",
    "             color=\"orange\")\n",
    "ax.set_xlabel('Polarity score')\n",
    "ax.set_ylabel('Number of tweets')\n",
    "plt.title(\"Polarity score of South African tweets on money\")\n",
    "plt.show()"
   ]
  },
  {
   "cell_type": "markdown",
   "metadata": {},
   "source": [
    "## Histogram of polarity excluding 0's.\n",
    "### In the revised histogram we see that there are more positive than negative tweets about money."
   ]
  },
  {
   "cell_type": "code",
   "execution_count": 16,
   "metadata": {},
   "outputs": [
    {
     "data": {
      "image/png": "[encoded data removed]",
      "text/plain": [
       "<Figure size 576x432 with 1 Axes>"
      ]
     },
     "metadata": {
      "needs_background": "light"
     },
     "output_type": "display_data"
    }
   ],
   "source": [
    "# Remove polarity values equal to zero\n",
    "sentiment_df1 = sentiment_df[sentiment_df.polarity != 0]\n",
    "fig, ax = plt.subplots(figsize=(8, 6))\n",
    "\n",
    "# Plot histogram with break at zero\n",
    "sentiment_df1.hist(bins=[-1, -0.75, -0.5, -0.25, 0.0, 0.25, 0.5, 0.75, 1],\n",
    "             ax=ax,\n",
    "             color=\"black\")\n",
    "ax.set_xlabel('Polarity score')\n",
    "ax.set_ylabel('Number of tweets')\n",
    "plt.title(\"Polarity score of South African tweets on money (excluding 0)\")\n",
    "plt.show()"
   ]
  },
  {
   "cell_type": "markdown",
   "metadata": {},
   "source": [
    "## In closing, you should now have the necessary skills to access the twitter API, create a bot for the topic of your choice and interact with other users through your own notebook. You should also have the skills to  be able to search for and store location-based tweets using Tweepy as well as analyse their sentiment using TextBlob.\n",
    "\n",
    "## Thanks for following my tutorial!\n",
    "\n",
    "# Nyasha"
   ]
  }
 ],
 "metadata": {
  "kernelspec": {
   "display_name": "Python 3",
   "language": "python",
   "name": "python3"
  },
  "language_info": {
   "codemirror_mode": {
    "name": "ipython",
    "version": 3
   },
   "file_extension": ".py",
   "mimetype": "text/x-python",
   "name": "python",
   "nbconvert_exporter": "python",
   "pygments_lexer": "ipython3",
   "version": "3.7.3"
  }
 },
 "nbformat": 4,
 "nbformat_minor": 2
}
